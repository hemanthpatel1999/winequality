{
 "cells": [
  {
   "cell_type": "code",
   "execution_count": 1,
   "metadata": {
    "id": "zC2vQ5JRyaRQ"
   },
   "outputs": [],
   "source": [
    "import pandas as pd     \n",
    "import numpy as np      \n",
    "import seaborn as sns   \n",
    "import matplotlib.pyplot as plt     \n"
   ]
  },
  {
   "cell_type": "markdown",
   "metadata": {
    "id": "kGwoiHLeyaRg"
   },
   "source": [
    " Importing the dataset\n"
   ]
  },
  {
   "cell_type": "code",
   "execution_count": 2,
   "metadata": {
    "id": "rqG5T0l3yaRh",
    "outputId": "cb072f85-b24f-4baa-d930-ae40059b57e8"
   },
   "outputs": [
    {
     "data": {
      "text/html": [
       "<div>\n",
       "<style scoped>\n",
       "    .dataframe tbody tr th:only-of-type {\n",
       "        vertical-align: middle;\n",
       "    }\n",
       "\n",
       "    .dataframe tbody tr th {\n",
       "        vertical-align: top;\n",
       "    }\n",
       "\n",
       "    .dataframe thead th {\n",
       "        text-align: right;\n",
       "    }\n",
       "</style>\n",
       "<table border=\"1\" class=\"dataframe\">\n",
       "  <thead>\n",
       "    <tr style=\"text-align: right;\">\n",
       "      <th></th>\n",
       "      <th>fixed acidity</th>\n",
       "      <th>volatile acidity</th>\n",
       "      <th>citric acid</th>\n",
       "      <th>residual sugar</th>\n",
       "      <th>chlorides</th>\n",
       "      <th>free sulfur dioxide</th>\n",
       "      <th>total sulfur dioxide</th>\n",
       "      <th>density</th>\n",
       "      <th>pH</th>\n",
       "      <th>sulphates</th>\n",
       "      <th>alcohol</th>\n",
       "      <th>quality</th>\n",
       "    </tr>\n",
       "  </thead>\n",
       "  <tbody>\n",
       "    <tr>\n",
       "      <td>0</td>\n",
       "      <td>7.4</td>\n",
       "      <td>0.70</td>\n",
       "      <td>0.00</td>\n",
       "      <td>1.9</td>\n",
       "      <td>0.076</td>\n",
       "      <td>11.0</td>\n",
       "      <td>34.0</td>\n",
       "      <td>0.9978</td>\n",
       "      <td>3.51</td>\n",
       "      <td>0.56</td>\n",
       "      <td>9.4</td>\n",
       "      <td>5</td>\n",
       "    </tr>\n",
       "    <tr>\n",
       "      <td>1</td>\n",
       "      <td>7.8</td>\n",
       "      <td>0.88</td>\n",
       "      <td>0.00</td>\n",
       "      <td>2.6</td>\n",
       "      <td>0.098</td>\n",
       "      <td>25.0</td>\n",
       "      <td>67.0</td>\n",
       "      <td>0.9968</td>\n",
       "      <td>3.20</td>\n",
       "      <td>0.68</td>\n",
       "      <td>9.8</td>\n",
       "      <td>5</td>\n",
       "    </tr>\n",
       "    <tr>\n",
       "      <td>2</td>\n",
       "      <td>7.8</td>\n",
       "      <td>0.76</td>\n",
       "      <td>0.04</td>\n",
       "      <td>2.3</td>\n",
       "      <td>0.092</td>\n",
       "      <td>15.0</td>\n",
       "      <td>54.0</td>\n",
       "      <td>0.9970</td>\n",
       "      <td>3.26</td>\n",
       "      <td>0.65</td>\n",
       "      <td>9.8</td>\n",
       "      <td>5</td>\n",
       "    </tr>\n",
       "    <tr>\n",
       "      <td>3</td>\n",
       "      <td>11.2</td>\n",
       "      <td>0.28</td>\n",
       "      <td>0.56</td>\n",
       "      <td>1.9</td>\n",
       "      <td>0.075</td>\n",
       "      <td>17.0</td>\n",
       "      <td>60.0</td>\n",
       "      <td>0.9980</td>\n",
       "      <td>3.16</td>\n",
       "      <td>0.58</td>\n",
       "      <td>9.8</td>\n",
       "      <td>6</td>\n",
       "    </tr>\n",
       "    <tr>\n",
       "      <td>4</td>\n",
       "      <td>7.4</td>\n",
       "      <td>0.70</td>\n",
       "      <td>0.00</td>\n",
       "      <td>1.9</td>\n",
       "      <td>0.076</td>\n",
       "      <td>11.0</td>\n",
       "      <td>34.0</td>\n",
       "      <td>0.9978</td>\n",
       "      <td>3.51</td>\n",
       "      <td>0.56</td>\n",
       "      <td>9.4</td>\n",
       "      <td>5</td>\n",
       "    </tr>\n",
       "  </tbody>\n",
       "</table>\n",
       "</div>"
      ],
      "text/plain": [
       "   fixed acidity  volatile acidity  citric acid  residual sugar  chlorides  \\\n",
       "0            7.4              0.70         0.00             1.9      0.076   \n",
       "1            7.8              0.88         0.00             2.6      0.098   \n",
       "2            7.8              0.76         0.04             2.3      0.092   \n",
       "3           11.2              0.28         0.56             1.9      0.075   \n",
       "4            7.4              0.70         0.00             1.9      0.076   \n",
       "\n",
       "   free sulfur dioxide  total sulfur dioxide  density    pH  sulphates  \\\n",
       "0                 11.0                  34.0   0.9978  3.51       0.56   \n",
       "1                 25.0                  67.0   0.9968  3.20       0.68   \n",
       "2                 15.0                  54.0   0.9970  3.26       0.65   \n",
       "3                 17.0                  60.0   0.9980  3.16       0.58   \n",
       "4                 11.0                  34.0   0.9978  3.51       0.56   \n",
       "\n",
       "   alcohol  quality  \n",
       "0      9.4        5  \n",
       "1      9.8        5  \n",
       "2      9.8        5  \n",
       "3      9.8        6  \n",
       "4      9.4        5  "
      ]
     },
     "execution_count": 2,
     "metadata": {},
     "output_type": "execute_result"
    }
   ],
   "source": [
    "df = pd.read_csv(r'C:\\Users\\chiru pc\\Desktop\\Refactored_Py_DS_ML_Bootcamp-master\\winequality-red.csv')\n",
    "df.head()   "
   ]
  },
  {
   "cell_type": "code",
   "execution_count": 3,
   "metadata": {
    "id": "lmH-fzFsyaR1",
    "outputId": "9235d575-04bb-48d8-c15c-37d7ad668506",
    "tags": []
   },
   "outputs": [
    {
     "name": "stdout",
     "output_type": "stream",
     "text": [
      "<class 'pandas.core.frame.DataFrame'>\n",
      "RangeIndex: 1599 entries, 0 to 1598\n",
      "Data columns (total 12 columns):\n",
      "fixed acidity           1599 non-null float64\n",
      "volatile acidity        1599 non-null float64\n",
      "citric acid             1599 non-null float64\n",
      "residual sugar          1599 non-null float64\n",
      "chlorides               1599 non-null float64\n",
      "free sulfur dioxide     1599 non-null float64\n",
      "total sulfur dioxide    1599 non-null float64\n",
      "density                 1599 non-null float64\n",
      "pH                      1599 non-null float64\n",
      "sulphates               1599 non-null float64\n",
      "alcohol                 1599 non-null float64\n",
      "quality                 1599 non-null int64\n",
      "dtypes: float64(11), int64(1)\n",
      "memory usage: 150.0 KB\n"
     ]
    }
   ],
   "source": [
    "df.info()"
   ]
  },
  {
   "cell_type": "code",
   "execution_count": 4,
   "metadata": {
    "id": "ASqkbjMKyaSQ",
    "outputId": "e2753a18-aa89-4e7f-b084-55e73afced1b"
   },
   "outputs": [
    {
     "data": {
      "text/html": [
       "<div>\n",
       "<style scoped>\n",
       "    .dataframe tbody tr th:only-of-type {\n",
       "        vertical-align: middle;\n",
       "    }\n",
       "\n",
       "    .dataframe tbody tr th {\n",
       "        vertical-align: top;\n",
       "    }\n",
       "\n",
       "    .dataframe thead th {\n",
       "        text-align: right;\n",
       "    }\n",
       "</style>\n",
       "<table border=\"1\" class=\"dataframe\">\n",
       "  <thead>\n",
       "    <tr style=\"text-align: right;\">\n",
       "      <th></th>\n",
       "      <th>fixed acidity</th>\n",
       "      <th>volatile acidity</th>\n",
       "      <th>citric acid</th>\n",
       "      <th>residual sugar</th>\n",
       "      <th>chlorides</th>\n",
       "      <th>free sulfur dioxide</th>\n",
       "      <th>total sulfur dioxide</th>\n",
       "      <th>density</th>\n",
       "      <th>pH</th>\n",
       "      <th>sulphates</th>\n",
       "      <th>alcohol</th>\n",
       "      <th>quality</th>\n",
       "    </tr>\n",
       "  </thead>\n",
       "  <tbody>\n",
       "    <tr>\n",
       "      <td>fixed acidity</td>\n",
       "      <td>1.000000</td>\n",
       "      <td>-0.256131</td>\n",
       "      <td>0.671703</td>\n",
       "      <td>0.114777</td>\n",
       "      <td>0.093705</td>\n",
       "      <td>-0.153794</td>\n",
       "      <td>-0.113181</td>\n",
       "      <td>0.668047</td>\n",
       "      <td>-0.682978</td>\n",
       "      <td>0.183006</td>\n",
       "      <td>-0.061668</td>\n",
       "      <td>0.124052</td>\n",
       "    </tr>\n",
       "    <tr>\n",
       "      <td>volatile acidity</td>\n",
       "      <td>-0.256131</td>\n",
       "      <td>1.000000</td>\n",
       "      <td>-0.552496</td>\n",
       "      <td>0.001918</td>\n",
       "      <td>0.061298</td>\n",
       "      <td>-0.010504</td>\n",
       "      <td>0.076470</td>\n",
       "      <td>0.022026</td>\n",
       "      <td>0.234937</td>\n",
       "      <td>-0.260987</td>\n",
       "      <td>-0.202288</td>\n",
       "      <td>-0.390558</td>\n",
       "    </tr>\n",
       "    <tr>\n",
       "      <td>citric acid</td>\n",
       "      <td>0.671703</td>\n",
       "      <td>-0.552496</td>\n",
       "      <td>1.000000</td>\n",
       "      <td>0.143577</td>\n",
       "      <td>0.203823</td>\n",
       "      <td>-0.060978</td>\n",
       "      <td>0.035533</td>\n",
       "      <td>0.364947</td>\n",
       "      <td>-0.541904</td>\n",
       "      <td>0.312770</td>\n",
       "      <td>0.109903</td>\n",
       "      <td>0.226373</td>\n",
       "    </tr>\n",
       "    <tr>\n",
       "      <td>residual sugar</td>\n",
       "      <td>0.114777</td>\n",
       "      <td>0.001918</td>\n",
       "      <td>0.143577</td>\n",
       "      <td>1.000000</td>\n",
       "      <td>0.055610</td>\n",
       "      <td>0.187049</td>\n",
       "      <td>0.203028</td>\n",
       "      <td>0.355283</td>\n",
       "      <td>-0.085652</td>\n",
       "      <td>0.005527</td>\n",
       "      <td>0.042075</td>\n",
       "      <td>0.013732</td>\n",
       "    </tr>\n",
       "    <tr>\n",
       "      <td>chlorides</td>\n",
       "      <td>0.093705</td>\n",
       "      <td>0.061298</td>\n",
       "      <td>0.203823</td>\n",
       "      <td>0.055610</td>\n",
       "      <td>1.000000</td>\n",
       "      <td>0.005562</td>\n",
       "      <td>0.047400</td>\n",
       "      <td>0.200632</td>\n",
       "      <td>-0.265026</td>\n",
       "      <td>0.371260</td>\n",
       "      <td>-0.221141</td>\n",
       "      <td>-0.128907</td>\n",
       "    </tr>\n",
       "    <tr>\n",
       "      <td>free sulfur dioxide</td>\n",
       "      <td>-0.153794</td>\n",
       "      <td>-0.010504</td>\n",
       "      <td>-0.060978</td>\n",
       "      <td>0.187049</td>\n",
       "      <td>0.005562</td>\n",
       "      <td>1.000000</td>\n",
       "      <td>0.667666</td>\n",
       "      <td>-0.021946</td>\n",
       "      <td>0.070377</td>\n",
       "      <td>0.051658</td>\n",
       "      <td>-0.069408</td>\n",
       "      <td>-0.050656</td>\n",
       "    </tr>\n",
       "    <tr>\n",
       "      <td>total sulfur dioxide</td>\n",
       "      <td>-0.113181</td>\n",
       "      <td>0.076470</td>\n",
       "      <td>0.035533</td>\n",
       "      <td>0.203028</td>\n",
       "      <td>0.047400</td>\n",
       "      <td>0.667666</td>\n",
       "      <td>1.000000</td>\n",
       "      <td>0.071269</td>\n",
       "      <td>-0.066495</td>\n",
       "      <td>0.042947</td>\n",
       "      <td>-0.205654</td>\n",
       "      <td>-0.185100</td>\n",
       "    </tr>\n",
       "    <tr>\n",
       "      <td>density</td>\n",
       "      <td>0.668047</td>\n",
       "      <td>0.022026</td>\n",
       "      <td>0.364947</td>\n",
       "      <td>0.355283</td>\n",
       "      <td>0.200632</td>\n",
       "      <td>-0.021946</td>\n",
       "      <td>0.071269</td>\n",
       "      <td>1.000000</td>\n",
       "      <td>-0.341699</td>\n",
       "      <td>0.148506</td>\n",
       "      <td>-0.496180</td>\n",
       "      <td>-0.174919</td>\n",
       "    </tr>\n",
       "    <tr>\n",
       "      <td>pH</td>\n",
       "      <td>-0.682978</td>\n",
       "      <td>0.234937</td>\n",
       "      <td>-0.541904</td>\n",
       "      <td>-0.085652</td>\n",
       "      <td>-0.265026</td>\n",
       "      <td>0.070377</td>\n",
       "      <td>-0.066495</td>\n",
       "      <td>-0.341699</td>\n",
       "      <td>1.000000</td>\n",
       "      <td>-0.196648</td>\n",
       "      <td>0.205633</td>\n",
       "      <td>-0.057731</td>\n",
       "    </tr>\n",
       "    <tr>\n",
       "      <td>sulphates</td>\n",
       "      <td>0.183006</td>\n",
       "      <td>-0.260987</td>\n",
       "      <td>0.312770</td>\n",
       "      <td>0.005527</td>\n",
       "      <td>0.371260</td>\n",
       "      <td>0.051658</td>\n",
       "      <td>0.042947</td>\n",
       "      <td>0.148506</td>\n",
       "      <td>-0.196648</td>\n",
       "      <td>1.000000</td>\n",
       "      <td>0.093595</td>\n",
       "      <td>0.251397</td>\n",
       "    </tr>\n",
       "    <tr>\n",
       "      <td>alcohol</td>\n",
       "      <td>-0.061668</td>\n",
       "      <td>-0.202288</td>\n",
       "      <td>0.109903</td>\n",
       "      <td>0.042075</td>\n",
       "      <td>-0.221141</td>\n",
       "      <td>-0.069408</td>\n",
       "      <td>-0.205654</td>\n",
       "      <td>-0.496180</td>\n",
       "      <td>0.205633</td>\n",
       "      <td>0.093595</td>\n",
       "      <td>1.000000</td>\n",
       "      <td>0.476166</td>\n",
       "    </tr>\n",
       "    <tr>\n",
       "      <td>quality</td>\n",
       "      <td>0.124052</td>\n",
       "      <td>-0.390558</td>\n",
       "      <td>0.226373</td>\n",
       "      <td>0.013732</td>\n",
       "      <td>-0.128907</td>\n",
       "      <td>-0.050656</td>\n",
       "      <td>-0.185100</td>\n",
       "      <td>-0.174919</td>\n",
       "      <td>-0.057731</td>\n",
       "      <td>0.251397</td>\n",
       "      <td>0.476166</td>\n",
       "      <td>1.000000</td>\n",
       "    </tr>\n",
       "  </tbody>\n",
       "</table>\n",
       "</div>"
      ],
      "text/plain": [
       "                      fixed acidity  volatile acidity  citric acid  \\\n",
       "fixed acidity              1.000000         -0.256131     0.671703   \n",
       "volatile acidity          -0.256131          1.000000    -0.552496   \n",
       "citric acid                0.671703         -0.552496     1.000000   \n",
       "residual sugar             0.114777          0.001918     0.143577   \n",
       "chlorides                  0.093705          0.061298     0.203823   \n",
       "free sulfur dioxide       -0.153794         -0.010504    -0.060978   \n",
       "total sulfur dioxide      -0.113181          0.076470     0.035533   \n",
       "density                    0.668047          0.022026     0.364947   \n",
       "pH                        -0.682978          0.234937    -0.541904   \n",
       "sulphates                  0.183006         -0.260987     0.312770   \n",
       "alcohol                   -0.061668         -0.202288     0.109903   \n",
       "quality                    0.124052         -0.390558     0.226373   \n",
       "\n",
       "                      residual sugar  chlorides  free sulfur dioxide  \\\n",
       "fixed acidity               0.114777   0.093705            -0.153794   \n",
       "volatile acidity            0.001918   0.061298            -0.010504   \n",
       "citric acid                 0.143577   0.203823            -0.060978   \n",
       "residual sugar              1.000000   0.055610             0.187049   \n",
       "chlorides                   0.055610   1.000000             0.005562   \n",
       "free sulfur dioxide         0.187049   0.005562             1.000000   \n",
       "total sulfur dioxide        0.203028   0.047400             0.667666   \n",
       "density                     0.355283   0.200632            -0.021946   \n",
       "pH                         -0.085652  -0.265026             0.070377   \n",
       "sulphates                   0.005527   0.371260             0.051658   \n",
       "alcohol                     0.042075  -0.221141            -0.069408   \n",
       "quality                     0.013732  -0.128907            -0.050656   \n",
       "\n",
       "                      total sulfur dioxide   density        pH  sulphates  \\\n",
       "fixed acidity                    -0.113181  0.668047 -0.682978   0.183006   \n",
       "volatile acidity                  0.076470  0.022026  0.234937  -0.260987   \n",
       "citric acid                       0.035533  0.364947 -0.541904   0.312770   \n",
       "residual sugar                    0.203028  0.355283 -0.085652   0.005527   \n",
       "chlorides                         0.047400  0.200632 -0.265026   0.371260   \n",
       "free sulfur dioxide               0.667666 -0.021946  0.070377   0.051658   \n",
       "total sulfur dioxide              1.000000  0.071269 -0.066495   0.042947   \n",
       "density                           0.071269  1.000000 -0.341699   0.148506   \n",
       "pH                               -0.066495 -0.341699  1.000000  -0.196648   \n",
       "sulphates                         0.042947  0.148506 -0.196648   1.000000   \n",
       "alcohol                          -0.205654 -0.496180  0.205633   0.093595   \n",
       "quality                          -0.185100 -0.174919 -0.057731   0.251397   \n",
       "\n",
       "                       alcohol   quality  \n",
       "fixed acidity        -0.061668  0.124052  \n",
       "volatile acidity     -0.202288 -0.390558  \n",
       "citric acid           0.109903  0.226373  \n",
       "residual sugar        0.042075  0.013732  \n",
       "chlorides            -0.221141 -0.128907  \n",
       "free sulfur dioxide  -0.069408 -0.050656  \n",
       "total sulfur dioxide -0.205654 -0.185100  \n",
       "density              -0.496180 -0.174919  \n",
       "pH                    0.205633 -0.057731  \n",
       "sulphates             0.093595  0.251397  \n",
       "alcohol               1.000000  0.476166  \n",
       "quality               0.476166  1.000000  "
      ]
     },
     "execution_count": 4,
     "metadata": {},
     "output_type": "execute_result"
    }
   ],
   "source": [
    "df.corr()"
   ]
  },
  {
   "cell_type": "code",
   "execution_count": 5,
   "metadata": {
    "id": "OXQxPTnryaSb",
    "outputId": "c9c1c6b4-220f-42f7-8bd1-365c10ccf844"
   },
   "outputs": [
    {
     "data": {
      "text/plain": [
       "(1599, 12)"
      ]
     },
     "execution_count": 5,
     "metadata": {},
     "output_type": "execute_result"
    }
   ],
   "source": [
    "df.shape"
   ]
  },
  {
   "cell_type": "code",
   "execution_count": 6,
   "metadata": {
    "id": "KXq1cgBHyaSr",
    "outputId": "1ae1b1eb-d545-4de9-e0bf-e50ab53ac361"
   },
   "outputs": [
    {
     "data": {
      "text/plain": [
       "array([5, 6, 7, 4, 8, 3], dtype=int64)"
      ]
     },
     "execution_count": 6,
     "metadata": {},
     "output_type": "execute_result"
    }
   ],
   "source": [
    "df['quality'].unique()"
   ]
  },
  {
   "cell_type": "markdown",
   "metadata": {
    "id": "rZPhFKwyyaSz"
   },
   "source": [
    " Visualizing the unique values of target variable"
   ]
  },
  {
   "cell_type": "code",
   "execution_count": 47,
   "metadata": {
    "id": "pxolZrS1yaS4",
    "outputId": "e15eab46-fb91-4b9a-ede8-b2a721d231ae"
   },
   "outputs": [
    {
     "data": {
      "text/plain": [
       "Text(0.5, 1.0, 'Count of  target')"
      ]
     },
     "execution_count": 47,
     "metadata": {},
     "output_type": "execute_result"
    },
    {
     "data": {
      "image/png": "[encoded data removed]",
      "text/plain": [
       "<Figure size 432x288 with 1 Axes>"
      ]
     },
     "metadata": {
      "needs_background": "light"
     },
     "output_type": "display_data"
    }
   ],
   "source": [
    "sns.countplot(x = 'quality', data = df)\n",
    "plt.xlabel('Quality')\n",
    "plt.ylabel('Count')\n",
    "plt.title('Count of  target', size = 15)"
   ]
  },
  {
   "cell_type": "markdown",
   "metadata": {
    "id": "xgkhnhoTyaTE"
   },
   "source": [
    "# Visualization of each features with target attribute  \n",
    "\n",
    "* Quality   -   Fixed Acidity\n",
    "* Quality   -   Volatile Acidity\n",
    "* Quality   -   Citric Acid\n",
    "* Quality   -   Residual Sugar\n",
    "* Quality   -   Chlorides\n",
    "* Quality   -   Free Sulfur Di-Oxide\n",
    "* Quality   -   Total Sulfur Di-Oxide\n",
    "* Quality   -   Density\n",
    "* Quality   -   pH\n",
    "* Quality   -   Sulphates\n",
    "* Quality   -   Alcohol"
   ]
  },
  {
   "cell_type": "code",
   "execution_count": 48,
   "metadata": {
    "id": "2wvGpB5lyaTG",
    "outputId": "86257bff-a38d-4e7d-e386-a97cbb51a4a2"
   },
   "outputs": [
    {
     "data": {
      "text/plain": [
       "Text(0.5, 1, 'quality - fixed acidity')"
      ]
     },
     "execution_count": 48,
     "metadata": {},
     "output_type": "execute_result"
    },
    {
     "data": {
      "image/png": "[encoded data removed]",
      "text/plain": [
       "<Figure size 345.6x288 with 1 Axes>"
      ]
     },
     "metadata": {
      "needs_background": "light"
     },
     "output_type": "display_data"
    }
   ],
   "source": [
    "sns.catplot(x = 'quality', y = 'fixed acidity', data = df, kind = 'bar', height = 4, aspect=1.2)\n",
    "plt.xlabel('quality', size = 20)\n",
    "plt.ylabel('fixed acidity', size = 20)\n",
    "plt.title('quality - fixed acidity', size = 20)"
   ]
  },
  {
   "cell_type": "code",
   "execution_count": 49,
   "metadata": {
    "id": "XmANYBp5yaTd",
    "outputId": "1d0d5ac4-7299-4d30-d883-194c1dfdd328"
   },
   "outputs": [
    {
     "data": {
      "text/plain": [
       "Text(0.5, 1, 'quality VS volatile acidity')"
      ]
     },
     "execution_count": 49,
     "metadata": {},
     "output_type": "execute_result"
    },
    {
     "data": {
      "image/png": "[encoded data removed]",
      "text/plain": [
       "<Figure size 432x360 with 1 Axes>"
      ]
     },
     "metadata": {
      "needs_background": "light"
     },
     "output_type": "display_data"
    }
   ],
   "source": [
    "sns.catplot(x = 'quality', y = 'volatile acidity', data = df, kind = 'bar', height = 4, aspect=1.2)\n",
    "plt.xlabel('quality', size = 20)\n",
    "plt.ylabel('volatile acidity', size = 20)\n",
    "plt.title('quality VS volatile acidity', size = 20)"
   ]
  },
  {
   "cell_type": "code",
   "execution_count": 50,
   "metadata": {
    "id": "KtGdylLkyaTm",
    "outputId": "9953f395-693f-4de6-e6d7-e48329e535be"
   },
   "outputs": [
    {
     "data": {
      "text/plain": [
       "Text(0.5, 1, 'quality - citric acid')"
      ]
     },
     "execution_count": 50,
     "metadata": {},
     "output_type": "execute_result"
    },
    {
     "data": {
      "image/png": "[encoded data removed]",
      "text/plain": [
       "<Figure size 345.6x288 with 1 Axes>"
      ]
     },
     "metadata": {
      "needs_background": "light"
     },
     "output_type": "display_data"
    }
   ],
   "source": [
    "sns.catplot(x = 'quality', y = 'citric acid', data = df, kind = 'bar', height = 4, aspect=1.2)\n",
    "plt.xlabel('quality', size = 20)\n",
    "plt.ylabel('citric acid', size = 20)\n",
    "plt.title('quality - citric acid', size = 20)"
   ]
  },
  {
   "cell_type": "code",
   "execution_count": 51,
   "metadata": {
    "id": "7LIXvDGpyaT2",
    "outputId": "dfc26257-e025-43a3-c5a3-e1deb8748f89"
   },
   "outputs": [
    {
     "data": {
      "text/plain": [
       "Text(0.5, 1, 'quality - residual sugar')"
      ]
     },
     "execution_count": 51,
     "metadata": {},
     "output_type": "execute_result"
    },
    {
     "data": {
      "image/png": "[encoded data removed]",
      "text/plain": [
       "<Figure size 345.6x288 with 1 Axes>"
      ]
     },
     "metadata": {
      "needs_background": "light"
     },
     "output_type": "display_data"
    }
   ],
   "source": [
    "sns.catplot(x = 'quality', y = 'residual sugar', data = df, kind = 'bar', height = 4, aspect=1.2)\n",
    "plt.xlabel('quality', size = 20)\n",
    "plt.ylabel('residual sugar', size = 20)\n",
    "plt.title('quality - residual sugar', size = 20)"
   ]
  },
  {
   "cell_type": "code",
   "execution_count": 53,
   "metadata": {
    "id": "1UkUxQMCyaUE",
    "outputId": "09a5ac17-43ba-41ac-a4fb-4f2210b90943"
   },
   "outputs": [
    {
     "data": {
      "text/plain": [
       "Text(0.5, 1, 'quality - chlorides')"
      ]
     },
     "execution_count": 53,
     "metadata": {},
     "output_type": "execute_result"
    },
    {
     "data": {
      "image/png": "[encoded data removed]",
      "text/plain": [
       "<Figure size 288x288 with 1 Axes>"
      ]
     },
     "metadata": {
      "needs_background": "light"
     },
     "output_type": "display_data"
    }
   ],
   "source": [
    "sns.catplot(x = 'quality', y = 'chlorides', data = df, kind = 'bar', height = 4, aspect=1.0)\n",
    "plt.xlabel('quality', size = 15)\n",
    "plt.ylabel('chlorides', size = 15)\n",
    "plt.title('quality - chlorides', size = 20)"
   ]
  },
  {
   "cell_type": "code",
   "execution_count": 54,
   "metadata": {
    "id": "w35_a30dyaUP",
    "outputId": "51569052-40eb-4efb-8aa4-cdde272ad16a"
   },
   "outputs": [
    {
     "data": {
      "text/plain": [
       "Text(0.5, 1, 'quality - free sulfur dioxide')"
      ]
     },
     "execution_count": 54,
     "metadata": {},
     "output_type": "execute_result"
    },
    {
     "data": {
      "image/png": "[encoded data removed]",
      "text/plain": [
       "<Figure size 345.6x288 with 1 Axes>"
      ]
     },
     "metadata": {
      "needs_background": "light"
     },
     "output_type": "display_data"
    }
   ],
   "source": [
    "sns.catplot(x = 'quality', y = 'free sulfur dioxide', data = df, kind = 'bar', height = 4, aspect=1.2)\n",
    "plt.xlabel('quality', size = 20)\n",
    "plt.ylabel('free_sulfur_dioxide', size = 20)\n",
    "plt.title('quality - free sulfur dioxide', size = 20)"
   ]
  },
  {
   "cell_type": "code",
   "execution_count": 55,
   "metadata": {
    "id": "koShdHUMyaUX",
    "outputId": "086b6d1b-c644-4b61-a817-0652bc4eec78"
   },
   "outputs": [
    {
     "data": {
      "text/plain": [
       "Text(0.5, 1, 'quality - total sulfur dioxide')"
      ]
     },
     "execution_count": 55,
     "metadata": {},
     "output_type": "execute_result"
    },
    {
     "data": {
      "image/png": "[encoded data removed]",
      "text/plain": [
       "<Figure size 345.6x288 with 1 Axes>"
      ]
     },
     "metadata": {
      "needs_background": "light"
     },
     "output_type": "display_data"
    }
   ],
   "source": [
    "sns.catplot(x = 'quality', y = 'total sulfur dioxide', data = df, kind = 'bar', height = 4, aspect=1.2)\n",
    "plt.xlabel('quality', size = 20)\n",
    "plt.ylabel('total_sulfur_dioxide', size = 20)\n",
    "plt.title('quality - total sulfur dioxide', size = 20)"
   ]
  },
  {
   "cell_type": "code",
   "execution_count": 56,
   "metadata": {
    "id": "2tkIZpH3yaUw",
    "outputId": "6b304d15-04c2-4320-c0d9-b6ffeea1ec90"
   },
   "outputs": [
    {
     "data": {
      "text/plain": [
       "Text(0.5, 1, 'quality - density')"
      ]
     },
     "execution_count": 56,
     "metadata": {},
     "output_type": "execute_result"
    },
    {
     "data": {
      "image/png": "[encoded data removed]",
      "text/plain": [
       "<Figure size 345.6x288 with 1 Axes>"
      ]
     },
     "metadata": {
      "needs_background": "light"
     },
     "output_type": "display_data"
    }
   ],
   "source": [
    "sns.catplot(x = 'quality', y = 'density', data = df, kind = 'bar', height = 4, aspect=1.2)\n",
    "plt.xlabel('quality', size = 20)\n",
    "plt.ylabel('density', size = 20)\n",
    "plt.title('quality - density', size = 20)"
   ]
  },
  {
   "cell_type": "code",
   "execution_count": 57,
   "metadata": {
    "id": "tWJ9lOjcyaU5",
    "outputId": "9db66f45-1a26-4671-e4f0-1e630682f956"
   },
   "outputs": [
    {
     "data": {
      "text/plain": [
       "Text(0.5, 1, 'quality - pH')"
      ]
     },
     "execution_count": 57,
     "metadata": {},
     "output_type": "execute_result"
    },
    {
     "data": {
      "image/png": "[encoded data removed]",
      "text/plain": [
       "<Figure size 345.6x288 with 1 Axes>"
      ]
     },
     "metadata": {
      "needs_background": "light"
     },
     "output_type": "display_data"
    }
   ],
   "source": [
    "sns.catplot(x = 'quality', y = 'pH', data = df, kind = 'bar', height = 4, aspect=1.2)\n",
    "plt.xlabel('quality', size = 20)\n",
    "plt.ylabel('pH', size = 20)\n",
    "plt.title('quality - pH', size = 20)"
   ]
  },
  {
   "cell_type": "code",
   "execution_count": 58,
   "metadata": {
    "id": "WBihWo_uyaVB",
    "outputId": "060e7358-1b27-4de4-a6bd-355cee243ab0"
   },
   "outputs": [
    {
     "data": {
      "text/plain": [
       "Text(0.5, 1, 'quality - sulphates')"
      ]
     },
     "execution_count": 58,
     "metadata": {},
     "output_type": "execute_result"
    },
    {
     "data": {
      "image/png": "[encoded data removed]",
      "text/plain": [
       "<Figure size 345.6x288 with 1 Axes>"
      ]
     },
     "metadata": {
      "needs_background": "light"
     },
     "output_type": "display_data"
    }
   ],
   "source": [
    "sns.catplot(x = 'quality', y = 'sulphates', data = df, kind = 'bar', height = 4, aspect=1.2)\n",
    "plt.xlabel('quality', size = 20)\n",
    "plt.ylabel('sulphates', size = 20)\n",
    "plt.title('quality - sulphates', size = 20)"
   ]
  },
  {
   "cell_type": "code",
   "execution_count": 18,
   "metadata": {
    "id": "nuzYe7B2yaVI",
    "outputId": "6a1a0c1d-4c2e-45e2-ab38-3276bf8387ef"
   },
   "outputs": [
    {
     "data": {
      "text/plain": [
       "Text(0.5, 1, 'quality - alcohol')"
      ]
     },
     "execution_count": 18,
     "metadata": {},
     "output_type": "execute_result"
    },
    {
     "data": {
      "image/png": "[encoded data removed]",
      "text/plain": [
       "<Figure size 432x360 with 1 Axes>"
      ]
     },
     "metadata": {
      "needs_background": "light"
     },
     "output_type": "display_data"
    }
   ],
   "source": [
    "sns.catplot(x = 'quality', y = 'alcohol', data = df, kind = 'bar', height = 5, aspect=1.2)\n",
    "plt.xlabel('quality', size = 15)\n",
    "plt.ylabel('alcohol', size = 15)\n",
    "plt.title('quality - alcohol', size = 20)"
   ]
  },
  {
   "cell_type": "code",
   "execution_count": 29,
   "metadata": {
    "id": "zIgPnVnZyaVk"
   },
   "outputs": [],
   "source": [
    "from sklearn.preprocessing import StandardScaler\n",
    "\n",
    "x_sc = StandardScaler()\n",
    "y_sc = StandardScaler()\n",
    "\n",
    "train_data = y_train.reshape(len(y_train), 1)\n",
    "test_data = y_test.reshape(len(y_test), 1)\n",
    "\n",
    "X_std_train = x_sc.fit_transform(train_data)\n",
    "y_std_train = y_sc.fit_transform(train_data)\n",
    "\n",
    "X_std_test = x_sc.transform(test_data)\n",
    "y_std_test = y_sc.transform(test_data)"
   ]
  },
  {
   "cell_type": "code",
   "execution_count": 19,
   "metadata": {
    "id": "gkEPiZ7xyaVU"
   },
   "outputs": [],
   "source": [
    "X = df.iloc[:, :-1].values\n",
    "y = df.iloc[:, -1].values"
   ]
  },
  {
   "cell_type": "code",
   "execution_count": 61,
   "metadata": {},
   "outputs": [
    {
     "data": {
      "text/plain": [
       "array([[ 7.4  ,  0.7  ,  0.   , ...,  3.51 ,  0.56 ,  9.4  ],\n",
       "       [ 7.8  ,  0.88 ,  0.   , ...,  3.2  ,  0.68 ,  9.8  ],\n",
       "       [ 7.8  ,  0.76 ,  0.04 , ...,  3.26 ,  0.65 ,  9.8  ],\n",
       "       ...,\n",
       "       [ 6.3  ,  0.51 ,  0.13 , ...,  3.42 ,  0.75 , 11.   ],\n",
       "       [ 5.9  ,  0.645,  0.12 , ...,  3.57 ,  0.71 , 10.2  ],\n",
       "       [ 6.   ,  0.31 ,  0.47 , ...,  3.39 ,  0.66 , 11.   ]])"
      ]
     },
     "execution_count": 61,
     "metadata": {},
     "output_type": "execute_result"
    }
   ],
   "source": [
    "\n",
    "X\n"
   ]
  },
  {
   "cell_type": "code",
   "execution_count": 64,
   "metadata": {},
   "outputs": [
    {
     "data": {
      "text/plain": [
       "array([5, 5, 5, ..., 6, 5, 6], dtype=int64)"
      ]
     },
     "execution_count": 64,
     "metadata": {},
     "output_type": "execute_result"
    }
   ],
   "source": [
    "y\n",
    "\n"
   ]
  },
  {
   "cell_type": "code",
   "execution_count": 20,
   "metadata": {
    "id": "z4sXArCQyaVa",
    "outputId": "64374cd5-268c-489c-cd73-864cf4294fdc"
   },
   "outputs": [
    {
     "name": "stdout",
     "output_type": "stream",
     "text": [
      "Length of X_train :  1279\n",
      "Length of X_test  :  320\n",
      "Length of y_train :  1279\n",
      "Length of y_test  :  320\n"
     ]
    }
   ],
   "source": [
    "from sklearn.model_selection import train_test_split\n",
    "X_train, X_test, y_train, y_test = train_test_split(X, y, test_size = 0.2)\n",
    "\n",
    "print(\"Length of X_train : \", len(X_train))\n",
    "print(\"Length of X_test  : \", len(X_test))\n",
    "print(\"Length of y_train : \", len(y_train))\n",
    "print(\"Length of y_test  : \", len(y_test))"
   ]
  },
  {
   "cell_type": "markdown",
   "metadata": {
    "id": "d4fOTmddyaVv"
   },
   "source": [
    "\n",
    "* Linear Regression\n",
    "* Decision Tree\n",
    "* Random Forest\n",
    "* Support Vector Machine\n",
    "\n",
    "\n",
    "* Logistic Regression\n",
    "* Decision Tree Classifier\n",
    "* Random ForestClassifier\n",
    "* K Neighbors Classifier"
   ]
  },
  {
   "cell_type": "code",
   "execution_count": 40,
   "metadata": {
    "id": "g1LZ51q7yaVx"
   },
   "outputs": [],
   "source": [
    "from sklearn.tree import DecisionTreeClassifier\n",
    "from sklearn.ensemble import RandomForestClassifier\n",
    "from sklearn.neighbors import KNeighborsClassifier\n",
    "from sklearn.linear_model import LogisticRegression\n",
    "\n",
    "from sklearn.tree import DecisionTreeRegressor\n",
    "from sklearn.ensemble import RandomForestRegressor\n",
    "from sklearn.linear_model import LinearRegression\n",
    "from sklearn.svm import SVR"
   ]
  },
  {
   "cell_type": "code",
   "execution_count": 38,
   "metadata": {
    "id": "d1p1nqUdyaWT"
   },
   "outputs": [],
   "source": []
  },
  {
   "cell_type": "code",
   "execution_count": 41,
   "metadata": {
    "id": "XcllXFChyaWC"
   },
   "outputs": [],
   "source": [
    "# import warnings filter\n",
    "from warnings import simplefilter\n",
    "# ignore all future warnings\n",
    "simplefilter(action='ignore', category=FutureWarning)"
   ]
  },
  {
   "cell_type": "markdown",
   "metadata": {
    "id": "5wKx-8rLyaWR"
   },
   "source": []
  },
  {
   "cell_type": "code",
   "execution_count": 42,
   "metadata": {},
   "outputs": [
    {
     "name": "stderr",
     "output_type": "stream",
     "text": [
      "C:\\Users\\chiru pc\\Anaconda3\\lib\\site-packages\\sklearn\\utils\\validation.py:724: DataConversionWarning: A column-vector y was passed when a 1d array was expected. Please change the shape of y to (n_samples, ), for example using ravel().\n",
      "  y = column_or_1d(y, warn=True)\n",
      "C:\\Users\\chiru pc\\Anaconda3\\lib\\site-packages\\sklearn\\utils\\validation.py:724: DataConversionWarning: A column-vector y was passed when a 1d array was expected. Please change the shape of y to (n_samples, ), for example using ravel().\n",
      "  y = column_or_1d(y, warn=True)\n"
     ]
    }
   ],
   "source": [
    "dc = DecisionTreeClassifier().fit(X_train, y_train)\n",
    "rc = RandomForestClassifier(n_estimators=100).fit(X_train, y_train)\n",
    "knc = KNeighborsClassifier().fit(X_train, y_train)\n",
    "lor = LogisticRegression().fit(X_train, y_train)\n",
    "\n",
    "dr = DecisionTreeRegressor().fit(X_train, y_train)\n",
    "rr = RandomForestRegressor().fit(X_train, y_train)\n",
    "lr = LinearRegression().fit(X_train, y_train)\n",
    "svr_rbf = SVR(kernel='rbf').fit(X_std_train, y_std_train)\n",
    "svr_linear = SVR(kernel = 'linear').fit(X_std_train, y_std_train)"
   ]
  },
  {
   "cell_type": "markdown",
   "metadata": {
    "id": "mru-Fc47yaWb"
   },
   "source": []
  },
  {
   "cell_type": "code",
   "execution_count": 43,
   "metadata": {},
   "outputs": [],
   "source": [
    "dc_pred = dc.predict(X_test)\n",
    "rc_pred = rc.predict(X_test)\n",
    "knc_pred = knc.predict(X_test)\n",
    "lor_pred = lor.predict(X_test)\n",
    "\n",
    "dr_pred = dtr.predict(X_test)\n",
    "rr_pred = rr.predict(X_test)\n",
    "lr_pred = lr.predict(X_test)\n",
    "svr_rbf_pred = svr_rbf.predict(X_std_test)\n",
    "svr_linear_pred = svr_linear.predict(X_std_test)"
   ]
  },
  {
   "cell_type": "code",
   "execution_count": 44,
   "metadata": {
    "id": "bfn0Jb_fyaWc"
   },
   "outputs": [],
   "source": [
    "from sklearn.metrics import accuracy_score\n",
    "from sklearn.metrics import r2_score, mean_squared_error"
   ]
  },
  {
   "cell_type": "code",
   "execution_count": 45,
   "metadata": {
    "id": "uQVtcrwOyaWo",
    "outputId": "f59f592f-706e-423b-c1a6-238f419950f6"
   },
   "outputs": [
    {
     "name": "stdout",
     "output_type": "stream",
     "text": [
      "Accuracy of Decision tree Classifier \t 62.81%\n",
      "Accuracy of Random Forest Classifier \t 69.38%\n",
      "Accuracy of K Neighbors Classifier   \t 47.5%\n",
      "Accuracy of Logistic regression      \t 59.06%\n"
     ]
    }
   ],
   "source": [
    "print(f\"Accuracy of Decision tree Classifier \\t {round(accuracy_score(dc_pred, y_test) * 100, 2)}%\")\n",
    "print(f\"Accuracy of Random Forest Classifier \\t {round(accuracy_score(rc_pred, y_test) * 100, 2)}%\")\n",
    "print(f\"Accuracy of K Neighbors Classifier   \\t {round(accuracy_score(knc_pred, y_test) * 100, 2)}%\")\n",
    "print(f\"Accuracy of Logistic regression      \\t {round(accuracy_score(lor_pred, y_test) * 100, 2)}%\")"
   ]
  },
  {
   "cell_type": "code",
   "execution_count": 67,
   "metadata": {},
   "outputs": [
    {
     "name": "stdout",
     "output_type": "stream",
     "text": [
      "Confusion Matrix: \n",
      "[[ 1  1  1  0  0  0]\n",
      " [ 0  1  3  3  1  0]\n",
      " [ 1  6 94 25  3  0]\n",
      " [ 0  6 29 85 12  4]\n",
      " [ 0  0  2 16 20  1]\n",
      " [ 0  0  1  2  2  0]]\n",
      "--------------------------------------------------\n",
      "Classification Report: \n",
      "              precision    recall  f1-score   support\n",
      "\n",
      "           3       0.50      0.33      0.40         3\n",
      "           4       0.07      0.12      0.09         8\n",
      "           5       0.72      0.73      0.73       129\n",
      "           6       0.65      0.62      0.64       136\n",
      "           7       0.53      0.51      0.52        39\n",
      "           8       0.00      0.00      0.00         5\n",
      "\n",
      "    accuracy                           0.63       320\n",
      "   macro avg       0.41      0.39      0.40       320\n",
      "weighted avg       0.64      0.63      0.63       320\n",
      "\n"
     ]
    }
   ],
   "source": [
    "from sklearn.metrics import confusion_matrix, classification_report\n",
    "print(\"Confusion Matrix: \")\n",
    "print(confusion_matrix(y_test,dc_pred))\n",
    "print(\"-\" * 50)\n",
    "print(\"Classification Report: \")\n",
    "print(classification_report(y_test,dc_pred))"
   ]
  },
  {
   "cell_type": "code",
   "execution_count": 68,
   "metadata": {
    "id": "wNiWzCBsyaW6",
    "outputId": "99d02436-43b7-4b8e-9cb6-fbe86dc20bb0"
   },
   "outputs": [
    {
     "name": "stdout",
     "output_type": "stream",
     "text": [
      "r2_score of Decision tree Regressor  \t 0.0778504741601117\n",
      "[[ 1  1  1  0  0  0]\n",
      " [ 0  1  3  3  1  0]\n",
      " [ 1  6 94 25  3  0]\n",
      " [ 0  6 29 85 12  4]\n",
      " [ 0  0  2 16 20  1]\n",
      " [ 0  0  1  2  2  0]]\n",
      "r2_score of RandomForest Regressor   \t 0.443510990222745\n",
      "r2_score of Linear Regressor         \t 0.3162135524290063\n",
      "r2_score of Support Vector Regressor \t 0.9902713594009532\t kernel = rbf\n",
      "r2_score of Support Vector Regressor \t 0.9989166817306983\t kernel = linear\n",
      "\n",
      "mean_squared_error of Decision tree Regressor  \t 0.7826237921249264\n",
      "mean_squared_error of RandomForest Regressor   \t 0.6079679267856158\n",
      "mean_squared_error of Linear Regressor         \t 0.6739266294416024\n",
      "mean_squared_error of Support Vector Regressor \t 0.0998410691611869\t kernel = rbf\n",
      "mean_squared_error of Support Vector Regressor \t 0.033316638518602906\t kernel = linear\n"
     ]
    }
   ],
   "source": [
    "print(f\"r2_score of Decision tree Regressor  \\t {r2_score(y_test, dr_pred)}\")\n",
    "print(f\"r2_score of RandomForest Regressor   \\t {r2_score(y_test, rr_pred)}\")\n",
    "print(f\"r2_score of Linear Regressor         \\t {r2_score(y_test, lr_pred)}\")\n",
    "print(f\"r2_score of Support Vector Regressor \\t {r2_score(y_std_test, svr_rbf_pred)}\\t kernel = rbf\")\n",
    "print(f\"r2_score of Support Vector Regressor \\t {r2_score(y_std_test, svr_linear_pred)}\\t kernel = linear\\n\")\n",
    "\n",
    "print(f\"mean_squared_error of Decision tree Regressor  \\t {np.sqrt(mean_squared_error(y_test, dr_pred))}\")\n",
    "print(f\"mean_squared_error of RandomForest Regressor   \\t {np.sqrt(mean_squared_error(y_test, rr_pred))}\")\n",
    "print(f\"mean_squared_error of Linear Regressor         \\t {np.sqrt(mean_squared_error(y_test, lr_pred))}\")\n",
    "print(f\"mean_squared_error of Support Vector Regressor \\t {np.sqrt(mean_squared_error(y_std_test, svr_rbf_pred))}\\t kernel = rbf\")\n",
    "print(f\"mean_squared_error of Support Vector Regressor \\t {np.sqrt(mean_squared_error(y_std_test, svr_linear_pred))}\\t kernel = linear\")"
   ]
  },
  {
   "cell_type": "code",
   "execution_count": null,
   "metadata": {},
   "outputs": [],
   "source": []
  }
 ],
 "metadata": {
  "colab": {
   "collapsed_sections": [],
   "name": "Bharathpatil.ipynb",
   "provenance": []
  },
  "kernelspec": {
   "display_name": "Python 3",
   "language": "python",
   "name": "python3"
  },
  "language_info": {
   "codemirror_mode": {
    "name": "ipython",
    "version": 3
   },
   "file_extension": ".py",
   "mimetype": "text/x-python",
   "name": "python",
   "nbconvert_exporter": "python",
   "pygments_lexer": "ipython3",
   "version": "3.8.3"
  }
 },
 "nbformat": 4,
 "nbformat_minor": 1
}
